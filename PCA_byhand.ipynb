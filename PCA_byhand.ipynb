{
 "cells": [
  {
   "cell_type": "markdown",
   "metadata": {},
   "source": [
    "# PCA computation by hand"
   ]
  },
  {
   "cell_type": "markdown",
   "metadata": {},
   "source": [
    "Suppose the random variables X1, X2, and X3 have the covariance\n",
    "matrix:\n",
    "$$ C = \\begin{pmatrix}\n",
    " 1&-2  &0 \\\\ \n",
    " -2&5  &0 \\\\ \n",
    " 0&  0& 2\n",
    "\\end{pmatrix}$$\n",
    "Calculate (by hand, show detail work) the eigenvalue-eigenvector pairs\n",
    "and the principal components Y1, Y2 and Y3."
   ]
  },
  {
   "cell_type": "markdown",
   "metadata": {},
   "source": [
    "Ta có để Lagrange function to be maximized:\n",
    "$$ Av = \\lambda v$$\n",
    "Trong đó: \n",
    "* A là ma trận chuyển đổi\n",
    "* $v$ là eigenvector \n",
    "* $\\lambda$ là eigenvalue\n",
    "\n",
    "Từ đó đa được: $$ (A -\\lambda I)v = 0$$\n",
    "$$\\Rightarrow  det(A -\\lambda I) = 0$$\n",
    "$$\\Rightarrow  det(\\begin{pmatrix}\n",
    " 1-\\lambda&-2  &0 \\\\ \n",
    " -2&5 - \\lambda  &0 \\\\ \n",
    " 0&  0& 2 - \\lambda\n",
    "\\end{pmatrix}) = 0$$\n",
    "$$\\Rightarrow (2-\\lambda)*(-1)^6 * ((1-\\lambda)*(5-\\lambda)- (-2)*(-2)) = 0$$\n",
    "$$ \\Rightarrow (2-\\lambda) *(\\lambda^2 - 6\\lambda + 1) =0$$\n",
    "$$ \\Rightarrow (2-\\lambda) *(\\lambda - (3+2\\sqrt{2})(\\lambda - (3-2\\sqrt{2}) =0$$"
   ]
  },
  {
   "cell_type": "markdown",
   "metadata": {},
   "source": [
    "Suy ra: \n",
    "* $\\lambda = 2, \\lambda = 3+2\\sqrt{2}$ và $\\lambda = 3-2\\sqrt{2}$\n",
    "\n",
    "Giải các phương trình bằng phép khử Gauss \n",
    "\n",
    "* Với $\\lambda =2$ Thì\n",
    "$  (A -\\lambda I)v = 0$ giải phương trình có $ v = \\begin{pmatrix} 0\n",
    "\\\\ 0\n",
    "\\\\  \n",
    "x_{3}\n",
    "\\end{pmatrix} $\n",
    "* Với $\\lambda = 3+2\\sqrt{2}$ Thì\n",
    "$  (A -\\lambda I)v = 0$ giải phương trình có $ v = \\begin{pmatrix}(-\\sqrt{2}+1)*x_{2}\n",
    "\\\\ x_{2}\n",
    "\\\\  0\n",
    "\\end{pmatrix} $\n",
    "* Với $\\lambda = 3-2\\sqrt{2}$ Thì\n",
    "$  (A -\\lambda I)v = 0$ giải phương trình có $ v = \\begin{pmatrix}(\\sqrt{2}+1)*x_{2}\n",
    "\\\\ x_{2}\n",
    "\\\\  0\n",
    "\\end{pmatrix} $"
   ]
  },
  {
   "cell_type": "markdown",
   "metadata": {},
   "source": [
    "Chọn $x_{3} = 1 , x_{2} =  1$\n",
    "**Kết luận:**  $$\\lambda = \\begin{pmatrix}\n",
    "3+2\\sqrt{2}&  2& 3-2\\sqrt{2}\n",
    "\\end{pmatrix}$$\n",
    "$$ v = \\begin{pmatrix}\n",
    " -\\sqrt{2}+1&  0&\\sqrt{2}+1 \\\\ \n",
    " 1&  0& 1\\\\ \n",
    " 0&  1& 0\n",
    "\\end{pmatrix} $$"
   ]
  },
  {
   "cell_type": "markdown",
   "metadata": {},
   "source": [
    "PCA : Chuyển dữ liệu sang những chiều mới ở đó variance lớn nhất."
   ]
  }
 ],
 "metadata": {
  "kernelspec": {
   "display_name": "Python 3",
   "language": "python",
   "name": "python3"
  },
  "language_info": {
   "codemirror_mode": {
    "name": "ipython",
    "version": 3
   },
   "file_extension": ".py",
   "mimetype": "text/x-python",
   "name": "python",
   "nbconvert_exporter": "python",
   "pygments_lexer": "ipython3",
   "version": "3.8.0"
  }
 },
 "nbformat": 4,
 "nbformat_minor": 2
}

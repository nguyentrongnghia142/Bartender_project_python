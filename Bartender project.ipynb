{
 "cells": [
  {
   "cell_type": "code",
   "execution_count": 189,
   "metadata": {},
   "outputs": [],
   "source": [
    "import numpy as np\n",
    "questions = {\n",
    "\"strong\": \"Do ye like yer drinks strong?\",\n",
    "\"salty\": \"Do ye like it with a salty tang?\",\n",
    "\"bitter\": \"Are ye a lubber who likes it bitter?\",\n",
    "\"sweet\": \"Would ye like a bit of sweetness with yer poison?\",\n",
    "\"fruity\": \"Are ye one for a fruity finish?\",\n",
    "}\n",
    "ingredients = {\n",
    "\"strong\": [\"glug of rum\", \"slug of whisky\", \"splash of gin\"],\n",
    "\"salty\": [\"olive on a stick\", \"salt-dusted rim\", \"rasher of bacon\"],\n",
    "\"bitter\": [\"shake of bitters\", \"splash of tonic\", \"twist of lemon peel\"],\n",
    "\"sweet\": [\"sugar cube\", \"spoonful of honey\", \"spash of cola\"],\n",
    "\"fruity\": [\"slice of orange\", \"dash of cassis\", \"cherry on top\"],\n",
    "}"
   ]
  },
  {
   "cell_type": "markdown",
   "metadata": {},
   "source": [
    "Given two above dictionaries, construct the Python program (using functions) to ask users entering their tastes and then match randomly with the ingredients (print out outputs for user)."
   ]
  },
  {
   "cell_type": "code",
   "execution_count": 207,
   "metadata": {},
   "outputs": [],
   "source": [
    "reply = [\"I don’t like that taste\",\"I don’t think I like that\",\"I don’t really like that\",\"I will not drink that\",\n",
    "        \"Is there anything else?\"]"
   ]
  },
  {
   "cell_type": "code",
   "execution_count": 216,
   "metadata": {},
   "outputs": [],
   "source": [
    "def Conversation(ques,ingredients,reply): \n",
    "    questions = ques.copy() # cần lấy bản sao của dict vì dict truyền tham chiếu.\n",
    "    if (bool(questions) == False):  # kết thúc cuộc hội thoại + bool(questions) = false nếu dict empty\n",
    "        print(\"Staff: Sorry sir, maybe I don't have what you need ^^\");\n",
    "        return \n",
    "    tastes = np.random.choice(list(questions.keys()),1)[0]\n",
    "    print(\"Staff: \" + questions[tastes]+ \"(Y/N)\")\n",
    "    user = input(\"Guest: \") # Người dùng trả lời câu hỏi y/n\n",
    "    if (user.casefold() == \"y\" or user.casefold() == \"yes\"):\n",
    "        print(\"Staff: How about \" +np.random.choice(ingredients[tastes],1)[0])  \n",
    "        print(\"Guest: Sound great, I will take it\")\n",
    "    else: \n",
    "        print(\"Guest: \"+np.random.choice(reply,1)[0])  # chọn random các câu trả lời\n",
    "        questions.pop(tastes,None)\n",
    "        Match(questions,ingredients,reply) # thực thi đến khi hết tất cả các câu hỏi\n"
   ]
  },
  {
   "cell_type": "code",
   "execution_count": 217,
   "metadata": {},
   "outputs": [
    {
     "name": "stdout",
     "output_type": "stream",
     "text": [
      "Staff: Do ye like yer drinks strong?(Y/N)\n",
      "Guest: N\n",
      "Guest: I will not drink that\n",
      "Staff: Are ye a lubber who likes it bitter?(Y/N)\n",
      "Guest: n\n",
      "Guest: I will not drink that\n",
      "Staff: Would ye like a bit of sweetness with yer poison?(Y/N)\n",
      "Guest: n\n",
      "Guest: I don’t think I like that\n",
      "Staff: Do ye like it with a salty tang?(Y/N)\n",
      "Guest: n\n",
      "Guest: I don’t really like that\n",
      "Staff: Are ye one for a fruity finish?(Y/N)\n",
      "Guest: n\n",
      "Guest: Is there anything else?\n",
      "Staff: Sorry sir, maybe I don't have what you need ^^\n"
     ]
    }
   ],
   "source": [
    "Conversation(questions,ingredients,reply)"
   ]
  },
  {
   "cell_type": "code",
   "execution_count": 218,
   "metadata": {},
   "outputs": [
    {
     "name": "stdout",
     "output_type": "stream",
     "text": [
      "Staff: Do ye like it with a salty tang?(Y/N)\n",
      "Guest: N\n",
      "Guest: I will not drink that\n",
      "Staff: Are ye one for a fruity finish?(Y/N)\n",
      "Guest: Y\n",
      "Staff: How about dash of cassis\n",
      "Guest: Sound great, I will take it\n"
     ]
    }
   ],
   "source": [
    "Conversation(questions,ingredients,reply)"
   ]
  }
 ],
 "metadata": {
  "kernelspec": {
   "display_name": "Python 3",
   "language": "python",
   "name": "python3"
  },
  "language_info": {
   "codemirror_mode": {
    "name": "ipython",
    "version": 3
   },
   "file_extension": ".py",
   "mimetype": "text/x-python",
   "name": "python",
   "nbconvert_exporter": "python",
   "pygments_lexer": "ipython3",
   "version": "3.8.0"
  }
 },
 "nbformat": 4,
 "nbformat_minor": 2
}
